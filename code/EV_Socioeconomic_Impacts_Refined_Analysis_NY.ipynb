{
 "cells": [
  {
   "cell_type": "code",
   "execution_count": 1,
   "metadata": {
    "scrolled": true
   },
   "outputs": [],
   "source": [
    "import pandas as pd\n",
    "import os\n",
    "import pickle\n",
    "import numpy as np\n",
    "import warnings\n",
    "import matplotlib.pyplot as plt\n",
    "#import geopandas as gpd  # combines the capabilities of pandas and shapely for geospatial operations\n",
    "#from shapely.geometry import Point, Polygon, MultiPolygon  # for manipulating text data into geospatial shapes\n",
    "#from mpl_toolkits.axes_grid1 import make_axes_locatable\n",
    "#from shapely import wkt\n",
    "warnings.filterwarnings('ignore')\n",
    "from sklearn.linear_model import LinearRegression, LogisticRegression\n",
    "from sklearn.preprocessing import StandardScaler\n",
    "from sklearn.model_selection import train_test_split\n",
    "from scipy import stats"
   ]
  },
  {
   "cell_type": "code",
   "execution_count": 2,
   "metadata": {},
   "outputs": [],
   "source": [
    "SMALL_SIZE = 12\n",
    "MEDIUM_SIZE = 14\n",
    "BIGGER_SIZE = 16\n",
    "plt.rc('font', size=BIGGER_SIZE)          # controls default text sizes\n",
    "plt.rc('axes', titlesize=SMALL_SIZE)     # fontsize of the axes title\n",
    "plt.rc('axes', labelsize=MEDIUM_SIZE)    # fontsize of the x and y labels\n",
    "plt.rc('xtick', labelsize=SMALL_SIZE)    # fontsize of the tick labels\n",
    "plt.rc('ytick', labelsize=SMALL_SIZE)    # fontsize of the tick labels\n",
    "plt.rc('legend', fontsize=SMALL_SIZE)    # legend fontsize\n",
    "plt.rc('figure', titlesize=BIGGER_SIZE) "
   ]
  },
  {
   "cell_type": "markdown",
   "metadata": {},
   "source": [
    "### Data Preparation and Loading"
   ]
  },
  {
   "cell_type": "code",
   "execution_count": 28,
   "metadata": {},
   "outputs": [],
   "source": [
    "data_dir = '/Users/saraprice/Documents/NYU/Research/EV_Charging_Stations/Data'"
   ]
  },
  {
   "cell_type": "code",
   "execution_count": 29,
   "metadata": {},
   "outputs": [],
   "source": [
    "##EV Charging stations data\n",
    "EV_df = pd.read_csv(os.path.join(data_dir, 'EV_Charging_Stations_NYC_Open_Data.csv'))\n",
    "#Zip code boundaries (GIS data for plotting)\n",
    "#zip_boundaries = gpd.read_file(os.path.join(data_dir, 'ZIP_CODE_040114', 'ZIP_CODE_040114.shp'))\n",
    "#Reference file for NYC zip codes\n",
    "NYC_zips = pd.read_csv(os.path.join(data_dir, 'NYC_zip_codes.csv'))\n",
    "#Median income data\n",
    "income_data = pd.read_csv(os.path.join(data_dir, 'median_income.csv'))\n",
    "#Poverty data\n",
    "poverty_data = pd.read_csv(os.path.join(data_dir, 'poverty_census_data_clean.csv'))\n",
    "#Demo data\n",
    "demo_data = pd.read_csv(os.path.join(data_dir, 'demo_data_acs_5yr_clean.csv'))\n",
    "#highway data\n",
    "highway_data = pd.read_csv(os.path.join(data_dir, 'highways_by_zip.csv'))"
   ]
  },
  {
   "cell_type": "code",
   "execution_count": 5,
   "metadata": {},
   "outputs": [
    {
     "data": {
      "text/plain": [
       "(240, 1)"
      ]
     },
     "execution_count": 5,
     "metadata": {},
     "output_type": "execute_result"
    }
   ],
   "source": [
    "NYC_zips = NYC_zips[['zip_code']]\n",
    "NYC_zips['zip_code'] = NYC_zips['zip_code'].astype(str).apply(lambda x: str.zfill(x, 5))\n",
    "NYC_zips.drop_duplicates(inplace = True)\n",
    "NYC_zips.shape"
   ]
  },
  {
   "cell_type": "code",
   "execution_count": 26,
   "metadata": {},
   "outputs": [
    {
     "data": {
      "text/plain": [
       "(106, 2)"
      ]
     },
     "execution_count": 26,
     "metadata": {},
     "output_type": "execute_result"
    }
   ],
   "source": [
    "NYC_zips['zip_int'] = NYC_zips['zip_code'].astype(int)\n",
    "NYC_zips[NYC_zips['zip_int']>=11000].shape"
   ]
  },
  {
   "cell_type": "code",
   "execution_count": null,
   "metadata": {},
   "outputs": [],
   "source": []
  },
  {
   "cell_type": "code",
   "execution_count": null,
   "metadata": {},
   "outputs": [],
   "source": []
  },
  {
   "cell_type": "code",
   "execution_count": 6,
   "metadata": {},
   "outputs": [],
   "source": [
    "##Clean up EV data\n",
    "EV_df = EV_df[['Station Name', 'Street Address', 'City', 'ZIP']]\n",
    "EV_df.rename(columns = {\"Station Name\": 'station_name',\n",
    "                        \"Street Address\":'str_address',\n",
    "                        \"City\": 'city',\n",
    "                        'ZIP': 'zip_code'}, inplace = True)\n",
    "EV_df['zip_code'] = EV_df['zip_code'].astype(str).apply(lambda x: str.zfill(x, 5))"
   ]
  },
  {
   "cell_type": "code",
   "execution_count": 7,
   "metadata": {},
   "outputs": [
    {
     "data": {
      "text/plain": [
       "(104, 2)"
      ]
     },
     "execution_count": 7,
     "metadata": {},
     "output_type": "execute_result"
    }
   ],
   "source": [
    "EV_by_zip = EV_df[['station_name', 'zip_code']].groupby(['zip_code']).count().reset_index()\\\n",
    "                    .rename(columns = {'station_name':'station_count'})\n",
    "EV_by_zip.shape"
   ]
  },
  {
   "cell_type": "code",
   "execution_count": 8,
   "metadata": {},
   "outputs": [
    {
     "name": "stdout",
     "output_type": "stream",
     "text": [
      "(240, 2)\n"
     ]
    }
   ],
   "source": [
    "#Add in all zip codes in NYC\n",
    "EV_by_zip = EV_by_zip.merge(NYC_zips, on = ['zip_code'], how = 'right')\n",
    "print(EV_by_zip.shape)"
   ]
  },
  {
   "cell_type": "code",
   "execution_count": 9,
   "metadata": {},
   "outputs": [
    {
     "data": {
      "text/plain": [
       "502.0"
      ]
     },
     "execution_count": 9,
     "metadata": {},
     "output_type": "execute_result"
    }
   ],
   "source": [
    "EV_by_zip['station_count'].sum()"
   ]
  },
  {
   "cell_type": "code",
   "execution_count": 10,
   "metadata": {},
   "outputs": [
    {
     "data": {
      "text/plain": [
       "(176, 2)"
      ]
     },
     "execution_count": 10,
     "metadata": {},
     "output_type": "execute_result"
    }
   ],
   "source": [
    "#limit to just incomes in NYC\n",
    "incomes_nyc = income_data[income_data.zip_code.isin(NYC_zips.zip_code)]\n",
    "incomes_nyc['families_median_income'] = np.where(incomes_nyc['families_median_income']=='250,000+', 250000, \n",
    "                                             incomes_nyc['families_median_income'])\n",
    "incomes_nyc = incomes_nyc[incomes_nyc['families_median_income']!='-']\n",
    "incomes_nyc['families_median_income'] = incomes_nyc['families_median_income'].astype(int)\n",
    "incomes_nyc['zip_code'] = incomes_nyc['zip_code'].astype(str).apply(lambda x: str.zfill(x, 5))\n",
    "incomes_nyc.shape"
   ]
  },
  {
   "cell_type": "markdown",
   "metadata": {},
   "source": [
    "#### Median Income Data"
   ]
  },
  {
   "cell_type": "code",
   "execution_count": 11,
   "metadata": {},
   "outputs": [],
   "source": [
    "EV_income = pd.merge(EV_by_zip, incomes_nyc, on = 'zip_code', how = 'outer')\n",
    "EV_income['families_median_income'] = EV_income['families_median_income'] #.fillna(0)\n",
    "#EV_income['station_count'] = EV_income['station_count'].fillna(0)"
   ]
  },
  {
   "cell_type": "markdown",
   "metadata": {},
   "source": [
    "#### Poverty Rate"
   ]
  },
  {
   "cell_type": "code",
   "execution_count": 12,
   "metadata": {},
   "outputs": [],
   "source": [
    "poverty_data['zip_code'] = poverty_data['zip_code'].astype(str).apply(lambda x: str.zfill(x, 5))\n",
    "poverty_nyc = pd.merge(poverty_data, NYC_zips, on = 'zip_code')\n",
    "EV_poverty = pd.merge(poverty_nyc, EV_by_zip, on = 'zip_code', how = 'outer')\n",
    "EV_poverty['poverty_rate'] = EV_poverty['poverty_rate'] #.fillna(0)\n",
    "EV_poverty['non_poverty_rate'] = 1- EV_poverty['poverty_rate']\n",
    "EV_poverty['station_count'] = EV_poverty['station_count'] #.fillna(0)"
   ]
  },
  {
   "cell_type": "markdown",
   "metadata": {},
   "source": [
    "#### Racial Demographic Analysis"
   ]
  },
  {
   "cell_type": "code",
   "execution_count": 13,
   "metadata": {},
   "outputs": [],
   "source": [
    "demo_data['zip_code'] = demo_data['zip_code'].astype(str).apply(lambda x: str.zfill(x, 5))\n",
    "demo_nyc = pd.merge(demo_data, NYC_zips, on = 'zip_code') "
   ]
  },
  {
   "cell_type": "code",
   "execution_count": 14,
   "metadata": {},
   "outputs": [],
   "source": [
    "EV_demo = pd.merge(demo_nyc, EV_by_zip, on = 'zip_code', how = 'outer')\n",
    "EV_demo.drop([col for col in EV_demo.columns if col.find(\"pop\")>0], inplace = True, axis = 1)"
   ]
  },
  {
   "cell_type": "markdown",
   "metadata": {},
   "source": [
    "#### Highway Data"
   ]
  },
  {
   "cell_type": "code",
   "execution_count": 19,
   "metadata": {},
   "outputs": [
    {
     "data": {
      "text/html": [
       "<div>\n",
       "<style scoped>\n",
       "    .dataframe tbody tr th:only-of-type {\n",
       "        vertical-align: middle;\n",
       "    }\n",
       "\n",
       "    .dataframe tbody tr th {\n",
       "        vertical-align: top;\n",
       "    }\n",
       "\n",
       "    .dataframe thead th {\n",
       "        text-align: right;\n",
       "    }\n",
       "</style>\n",
       "<table border=\"1\" class=\"dataframe\">\n",
       "  <thead>\n",
       "    <tr style=\"text-align: right;\">\n",
       "      <th></th>\n",
       "      <th>Unnamed: 0</th>\n",
       "      <th>zip_code</th>\n",
       "      <th>highway_count</th>\n",
       "      <th>highway_bin</th>\n",
       "    </tr>\n",
       "  </thead>\n",
       "  <tbody>\n",
       "    <tr>\n",
       "      <th>0</th>\n",
       "      <td>0</td>\n",
       "      <td>10001</td>\n",
       "      <td>2.0</td>\n",
       "      <td>1.0</td>\n",
       "    </tr>\n",
       "    <tr>\n",
       "      <th>1</th>\n",
       "      <td>1</td>\n",
       "      <td>10002</td>\n",
       "      <td>1.0</td>\n",
       "      <td>1.0</td>\n",
       "    </tr>\n",
       "    <tr>\n",
       "      <th>2</th>\n",
       "      <td>2</td>\n",
       "      <td>10003</td>\n",
       "      <td>0.0</td>\n",
       "      <td>0.0</td>\n",
       "    </tr>\n",
       "    <tr>\n",
       "      <th>3</th>\n",
       "      <td>3</td>\n",
       "      <td>10004</td>\n",
       "      <td>2.0</td>\n",
       "      <td>1.0</td>\n",
       "    </tr>\n",
       "    <tr>\n",
       "      <th>4</th>\n",
       "      <td>4</td>\n",
       "      <td>10005</td>\n",
       "      <td>1.0</td>\n",
       "      <td>1.0</td>\n",
       "    </tr>\n",
       "  </tbody>\n",
       "</table>\n",
       "</div>"
      ],
      "text/plain": [
       "   Unnamed: 0  zip_code  highway_count  highway_bin\n",
       "0           0     10001            2.0          1.0\n",
       "1           1     10002            1.0          1.0\n",
       "2           2     10003            0.0          0.0\n",
       "3           3     10004            2.0          1.0\n",
       "4           4     10005            1.0          1.0"
      ]
     },
     "execution_count": 19,
     "metadata": {},
     "output_type": "execute_result"
    }
   ],
   "source": [
    "highway_data.head()"
   ]
  },
  {
   "cell_type": "code",
   "execution_count": 16,
   "metadata": {},
   "outputs": [
    {
     "data": {
      "text/plain": [
       "(240, 4)"
      ]
     },
     "execution_count": 16,
     "metadata": {},
     "output_type": "execute_result"
    }
   ],
   "source": [
    "highway_data = highway_data[['zip_code', 'highway_count', 'highway_bin']]\n",
    "highway_data['zip_code'] = highway_data['zip_code'].astype(str).apply(lambda x: str.zfill(x, 5))\n",
    "EV_highway = pd.merge(highway_data, EV_by_zip, on = 'zip_code', how = 'outer')\n",
    "EV_highway.shape"
   ]
  },
  {
   "cell_type": "markdown",
   "metadata": {},
   "source": [
    "#### Combine all data sources "
   ]
  },
  {
   "cell_type": "code",
   "execution_count": 17,
   "metadata": {},
   "outputs": [
    {
     "name": "stdout",
     "output_type": "stream",
     "text": [
      "(240, 6)\n",
      "(240, 3)\n",
      "(240, 7)\n",
      "(240, 4)\n",
      "(240, 4)\n",
      "(240,)\n",
      "(240, 12)\n"
     ]
    },
    {
     "data": {
      "text/plain": [
       "(240, 11)"
      ]
     },
     "execution_count": 17,
     "metadata": {},
     "output_type": "execute_result"
    }
   ],
   "source": [
    "print(EV_poverty.shape)\n",
    "print(EV_income.shape)\n",
    "print(EV_demo.shape)\n",
    "print(EV_highway.shape)\n",
    "EV_comb = pd.merge(EV_poverty[['station_count', 'poverty_rate', 'zip_code']], EV_income, \n",
    "                   on = ['zip_code', 'station_count'], how = 'left')\n",
    "print(EV_comb.shape)\n",
    "EV_comb = pd.merge(EV_comb, EV_demo, on = ['zip_code', 'station_count'])\n",
    "EV_comb = pd.merge(EV_comb, EV_highway, on = ['zip_code', 'station_count'])\n",
    "EV_comb['station_present'] = np.where(EV_comb['station_count']>0, 1, 0)\n",
    "print(EV_comb['zip_code'].drop_duplicates().shape)\n",
    "print(EV_comb.shape)\n",
    "EV_comb.drop('zip_code', axis = 1, inplace = True)\n",
    "EV_comb.fillna(0, inplace = True)\n",
    "EV_comb.shape"
   ]
  },
  {
   "cell_type": "markdown",
   "metadata": {},
   "source": [
    "## Analysis of Zip Codes with Stations v. without Stations"
   ]
  },
  {
   "cell_type": "markdown",
   "metadata": {},
   "source": [
    "### Correlation Coefficients"
   ]
  },
  {
   "cell_type": "code",
   "execution_count": 18,
   "metadata": {},
   "outputs": [
    {
     "data": {
      "text/html": [
       "<div>\n",
       "<style scoped>\n",
       "    .dataframe tbody tr th:only-of-type {\n",
       "        vertical-align: middle;\n",
       "    }\n",
       "\n",
       "    .dataframe tbody tr th {\n",
       "        vertical-align: top;\n",
       "    }\n",
       "\n",
       "    .dataframe thead th {\n",
       "        text-align: right;\n",
       "    }\n",
       "</style>\n",
       "<table border=\"1\" class=\"dataframe\">\n",
       "  <thead>\n",
       "    <tr style=\"text-align: right;\">\n",
       "      <th></th>\n",
       "      <th>station_present</th>\n",
       "      <th>station_count</th>\n",
       "    </tr>\n",
       "  </thead>\n",
       "  <tbody>\n",
       "    <tr>\n",
       "      <th>families_median_income</th>\n",
       "      <td>0.447779</td>\n",
       "      <td>0.582135</td>\n",
       "    </tr>\n",
       "    <tr>\n",
       "      <th>white_perc</th>\n",
       "      <td>0.427015</td>\n",
       "      <td>0.432348</td>\n",
       "    </tr>\n",
       "    <tr>\n",
       "      <th>highway_bin</th>\n",
       "      <td>0.316402</td>\n",
       "      <td>0.231002</td>\n",
       "    </tr>\n",
       "    <tr>\n",
       "      <th>asian_perc</th>\n",
       "      <td>0.243999</td>\n",
       "      <td>0.150984</td>\n",
       "    </tr>\n",
       "    <tr>\n",
       "      <th>poverty_rate</th>\n",
       "      <td>0.199501</td>\n",
       "      <td>0.010479</td>\n",
       "    </tr>\n",
       "    <tr>\n",
       "      <th>highway_count</th>\n",
       "      <td>0.190108</td>\n",
       "      <td>0.071097</td>\n",
       "    </tr>\n",
       "    <tr>\n",
       "      <th>hispanic_perc</th>\n",
       "      <td>0.183389</td>\n",
       "      <td>-0.059648</td>\n",
       "    </tr>\n",
       "    <tr>\n",
       "      <th>native_american_perc</th>\n",
       "      <td>0.081155</td>\n",
       "      <td>-0.002074</td>\n",
       "    </tr>\n",
       "    <tr>\n",
       "      <th>black_perc</th>\n",
       "      <td>-0.018615</td>\n",
       "      <td>-0.138726</td>\n",
       "    </tr>\n",
       "  </tbody>\n",
       "</table>\n",
       "</div>"
      ],
      "text/plain": [
       "                        station_present  station_count\n",
       "families_median_income         0.447779       0.582135\n",
       "white_perc                     0.427015       0.432348\n",
       "highway_bin                    0.316402       0.231002\n",
       "asian_perc                     0.243999       0.150984\n",
       "poverty_rate                   0.199501       0.010479\n",
       "highway_count                  0.190108       0.071097\n",
       "hispanic_perc                  0.183389      -0.059648\n",
       "native_american_perc           0.081155      -0.002074\n",
       "black_perc                    -0.018615      -0.138726"
      ]
     },
     "execution_count": 18,
     "metadata": {},
     "output_type": "execute_result"
    }
   ],
   "source": [
    "corr_df = EV_comb.corr()[['station_present', 'station_count']]\n",
    "corr_df = corr_df[(corr_df.index != 'station_count') & (corr_df.index != 'station_present')]\n",
    "corr_df.sort_values('station_present', ascending = False)"
   ]
  },
  {
   "cell_type": "markdown",
   "metadata": {},
   "source": [
    "### Descriptive Statistics on Station v. Non-Station Zip Codes"
   ]
  },
  {
   "cell_type": "code",
   "execution_count": 19,
   "metadata": {},
   "outputs": [],
   "source": [
    "for col in EV_comb.columns:\n",
    "    if col not in(['station_count', 'station_present', 'highway_bin', 'highway_count']):\n",
    "        EV_comb[col] = EV_comb[col].replace(0.0, np.nan)\n",
    "stations = EV_comb[EV_comb['station_present']==1]\n",
    "no_stations = EV_comb[EV_comb['station_present']!=1]\n",
    "\n",
    "    "
   ]
  },
  {
   "cell_type": "code",
   "execution_count": 44,
   "metadata": {},
   "outputs": [
    {
     "data": {
      "text/html": [
       "<div>\n",
       "<style scoped>\n",
       "    .dataframe tbody tr th:only-of-type {\n",
       "        vertical-align: middle;\n",
       "    }\n",
       "\n",
       "    .dataframe tbody tr th {\n",
       "        vertical-align: top;\n",
       "    }\n",
       "\n",
       "    .dataframe thead th {\n",
       "        text-align: right;\n",
       "    }\n",
       "</style>\n",
       "<table border=\"1\" class=\"dataframe\">\n",
       "  <thead>\n",
       "    <tr style=\"text-align: right;\">\n",
       "      <th></th>\n",
       "      <th>poverty_rate</th>\n",
       "      <th>families_median_income</th>\n",
       "      <th>white_perc</th>\n",
       "      <th>black_perc</th>\n",
       "      <th>native_american_perc</th>\n",
       "      <th>asian_perc</th>\n",
       "      <th>hispanic_perc</th>\n",
       "      <th>highway_count</th>\n",
       "      <th>highway_bin</th>\n",
       "    </tr>\n",
       "  </thead>\n",
       "  <tbody>\n",
       "    <tr>\n",
       "      <th>count</th>\n",
       "      <td>98.000000</td>\n",
       "      <td>97.000000</td>\n",
       "      <td>98.000000</td>\n",
       "      <td>98.000000</td>\n",
       "      <td>85.000000</td>\n",
       "      <td>98.000000</td>\n",
       "      <td>98.000000</td>\n",
       "      <td>104.000000</td>\n",
       "      <td>104.000000</td>\n",
       "    </tr>\n",
       "    <tr>\n",
       "      <th>mean</th>\n",
       "      <td>0.153929</td>\n",
       "      <td>112000.742268</td>\n",
       "      <td>0.517909</td>\n",
       "      <td>0.167934</td>\n",
       "      <td>0.004018</td>\n",
       "      <td>0.158068</td>\n",
       "      <td>0.250604</td>\n",
       "      <td>1.788462</td>\n",
       "      <td>0.807692</td>\n",
       "    </tr>\n",
       "    <tr>\n",
       "      <th>std</th>\n",
       "      <td>0.099989</td>\n",
       "      <td>66109.176627</td>\n",
       "      <td>0.240334</td>\n",
       "      <td>0.208402</td>\n",
       "      <td>0.003224</td>\n",
       "      <td>0.142677</td>\n",
       "      <td>0.186430</td>\n",
       "      <td>1.445939</td>\n",
       "      <td>0.396022</td>\n",
       "    </tr>\n",
       "    <tr>\n",
       "      <th>min</th>\n",
       "      <td>0.013193</td>\n",
       "      <td>33282.000000</td>\n",
       "      <td>0.042895</td>\n",
       "      <td>0.004226</td>\n",
       "      <td>0.000294</td>\n",
       "      <td>0.013628</td>\n",
       "      <td>0.032384</td>\n",
       "      <td>0.000000</td>\n",
       "      <td>0.000000</td>\n",
       "    </tr>\n",
       "    <tr>\n",
       "      <th>25%</th>\n",
       "      <td>0.092517</td>\n",
       "      <td>64000.000000</td>\n",
       "      <td>0.313184</td>\n",
       "      <td>0.033755</td>\n",
       "      <td>0.001565</td>\n",
       "      <td>0.053723</td>\n",
       "      <td>0.112523</td>\n",
       "      <td>1.000000</td>\n",
       "      <td>1.000000</td>\n",
       "    </tr>\n",
       "    <tr>\n",
       "      <th>50%</th>\n",
       "      <td>0.131809</td>\n",
       "      <td>87242.000000</td>\n",
       "      <td>0.563667</td>\n",
       "      <td>0.072635</td>\n",
       "      <td>0.003075</td>\n",
       "      <td>0.104753</td>\n",
       "      <td>0.170535</td>\n",
       "      <td>2.000000</td>\n",
       "      <td>1.000000</td>\n",
       "    </tr>\n",
       "    <tr>\n",
       "      <th>75%</th>\n",
       "      <td>0.184809</td>\n",
       "      <td>151028.000000</td>\n",
       "      <td>0.734223</td>\n",
       "      <td>0.200368</td>\n",
       "      <td>0.005965</td>\n",
       "      <td>0.220431</td>\n",
       "      <td>0.336863</td>\n",
       "      <td>2.000000</td>\n",
       "      <td>1.000000</td>\n",
       "    </tr>\n",
       "    <tr>\n",
       "      <th>max</th>\n",
       "      <td>0.727723</td>\n",
       "      <td>250000.000000</td>\n",
       "      <td>0.931675</td>\n",
       "      <td>0.889781</td>\n",
       "      <td>0.014794</td>\n",
       "      <td>0.725820</td>\n",
       "      <td>0.768157</td>\n",
       "      <td>6.000000</td>\n",
       "      <td>1.000000</td>\n",
       "    </tr>\n",
       "  </tbody>\n",
       "</table>\n",
       "</div>"
      ],
      "text/plain": [
       "       poverty_rate  families_median_income  white_perc  black_perc  \\\n",
       "count     98.000000               97.000000   98.000000   98.000000   \n",
       "mean       0.153929           112000.742268    0.517909    0.167934   \n",
       "std        0.099989            66109.176627    0.240334    0.208402   \n",
       "min        0.013193            33282.000000    0.042895    0.004226   \n",
       "25%        0.092517            64000.000000    0.313184    0.033755   \n",
       "50%        0.131809            87242.000000    0.563667    0.072635   \n",
       "75%        0.184809           151028.000000    0.734223    0.200368   \n",
       "max        0.727723           250000.000000    0.931675    0.889781   \n",
       "\n",
       "       native_american_perc  asian_perc  hispanic_perc  highway_count  \\\n",
       "count             85.000000   98.000000      98.000000     104.000000   \n",
       "mean               0.004018    0.158068       0.250604       1.788462   \n",
       "std                0.003224    0.142677       0.186430       1.445939   \n",
       "min                0.000294    0.013628       0.032384       0.000000   \n",
       "25%                0.001565    0.053723       0.112523       1.000000   \n",
       "50%                0.003075    0.104753       0.170535       2.000000   \n",
       "75%                0.005965    0.220431       0.336863       2.000000   \n",
       "max                0.014794    0.725820       0.768157       6.000000   \n",
       "\n",
       "       highway_bin  \n",
       "count   104.000000  \n",
       "mean      0.807692  \n",
       "std       0.396022  \n",
       "min       0.000000  \n",
       "25%       1.000000  \n",
       "50%       1.000000  \n",
       "75%       1.000000  \n",
       "max       1.000000  "
      ]
     },
     "execution_count": 44,
     "metadata": {},
     "output_type": "execute_result"
    }
   ],
   "source": [
    "stations[[col for col in stations.columns if col not in(['station_count', 'station_present'])]].describe()"
   ]
  },
  {
   "cell_type": "code",
   "execution_count": 38,
   "metadata": {},
   "outputs": [
    {
     "data": {
      "text/plain": [
       "(104, 11)"
      ]
     },
     "execution_count": 38,
     "metadata": {},
     "output_type": "execute_result"
    }
   ],
   "source": [
    "stations.shape"
   ]
  },
  {
   "cell_type": "code",
   "execution_count": 20,
   "metadata": {},
   "outputs": [
    {
     "data": {
      "text/plain": [
       "(136, 11)"
      ]
     },
     "execution_count": 20,
     "metadata": {},
     "output_type": "execute_result"
    }
   ],
   "source": [
    "no_stations.shape"
   ]
  },
  {
   "cell_type": "code",
   "execution_count": 45,
   "metadata": {},
   "outputs": [
    {
     "data": {
      "text/html": [
       "<div>\n",
       "<style scoped>\n",
       "    .dataframe tbody tr th:only-of-type {\n",
       "        vertical-align: middle;\n",
       "    }\n",
       "\n",
       "    .dataframe tbody tr th {\n",
       "        vertical-align: top;\n",
       "    }\n",
       "\n",
       "    .dataframe thead th {\n",
       "        text-align: right;\n",
       "    }\n",
       "</style>\n",
       "<table border=\"1\" class=\"dataframe\">\n",
       "  <thead>\n",
       "    <tr style=\"text-align: right;\">\n",
       "      <th></th>\n",
       "      <th>poverty_rate</th>\n",
       "      <th>families_median_income</th>\n",
       "      <th>white_perc</th>\n",
       "      <th>black_perc</th>\n",
       "      <th>native_american_perc</th>\n",
       "      <th>asian_perc</th>\n",
       "      <th>hispanic_perc</th>\n",
       "      <th>highway_count</th>\n",
       "      <th>highway_bin</th>\n",
       "    </tr>\n",
       "  </thead>\n",
       "  <tbody>\n",
       "    <tr>\n",
       "      <th>count</th>\n",
       "      <td>78.000000</td>\n",
       "      <td>79.000000</td>\n",
       "      <td>80.000000</td>\n",
       "      <td>78.000000</td>\n",
       "      <td>70.000000</td>\n",
       "      <td>79.000000</td>\n",
       "      <td>79.000000</td>\n",
       "      <td>136.000000</td>\n",
       "      <td>136.000000</td>\n",
       "    </tr>\n",
       "    <tr>\n",
       "      <th>mean</th>\n",
       "      <td>0.172891</td>\n",
       "      <td>78299.506329</td>\n",
       "      <td>0.390793</td>\n",
       "      <td>0.291237</td>\n",
       "      <td>0.005212</td>\n",
       "      <td>0.139458</td>\n",
       "      <td>0.277865</td>\n",
       "      <td>1.198529</td>\n",
       "      <td>0.500000</td>\n",
       "    </tr>\n",
       "    <tr>\n",
       "      <th>std</th>\n",
       "      <td>0.107877</td>\n",
       "      <td>38057.874208</td>\n",
       "      <td>0.262933</td>\n",
       "      <td>0.277587</td>\n",
       "      <td>0.004115</td>\n",
       "      <td>0.140387</td>\n",
       "      <td>0.201799</td>\n",
       "      <td>1.567351</td>\n",
       "      <td>0.501848</td>\n",
       "    </tr>\n",
       "    <tr>\n",
       "      <th>min</th>\n",
       "      <td>0.026674</td>\n",
       "      <td>25429.000000</td>\n",
       "      <td>0.024178</td>\n",
       "      <td>0.000221</td>\n",
       "      <td>0.000382</td>\n",
       "      <td>0.001806</td>\n",
       "      <td>0.057071</td>\n",
       "      <td>0.000000</td>\n",
       "      <td>0.000000</td>\n",
       "    </tr>\n",
       "    <tr>\n",
       "      <th>25%</th>\n",
       "      <td>0.087053</td>\n",
       "      <td>51657.500000</td>\n",
       "      <td>0.155389</td>\n",
       "      <td>0.049660</td>\n",
       "      <td>0.002103</td>\n",
       "      <td>0.029641</td>\n",
       "      <td>0.124033</td>\n",
       "      <td>0.000000</td>\n",
       "      <td>0.000000</td>\n",
       "    </tr>\n",
       "    <tr>\n",
       "      <th>50%</th>\n",
       "      <td>0.137795</td>\n",
       "      <td>75471.000000</td>\n",
       "      <td>0.370060</td>\n",
       "      <td>0.220520</td>\n",
       "      <td>0.003943</td>\n",
       "      <td>0.072519</td>\n",
       "      <td>0.199376</td>\n",
       "      <td>0.500000</td>\n",
       "      <td>0.500000</td>\n",
       "    </tr>\n",
       "    <tr>\n",
       "      <th>75%</th>\n",
       "      <td>0.234096</td>\n",
       "      <td>94008.000000</td>\n",
       "      <td>0.578861</td>\n",
       "      <td>0.460528</td>\n",
       "      <td>0.007785</td>\n",
       "      <td>0.235622</td>\n",
       "      <td>0.385670</td>\n",
       "      <td>2.000000</td>\n",
       "      <td>1.000000</td>\n",
       "    </tr>\n",
       "    <tr>\n",
       "      <th>max</th>\n",
       "      <td>0.479023</td>\n",
       "      <td>250000.000000</td>\n",
       "      <td>1.000000</td>\n",
       "      <td>0.928471</td>\n",
       "      <td>0.020044</td>\n",
       "      <td>0.475832</td>\n",
       "      <td>0.764944</td>\n",
       "      <td>8.000000</td>\n",
       "      <td>1.000000</td>\n",
       "    </tr>\n",
       "  </tbody>\n",
       "</table>\n",
       "</div>"
      ],
      "text/plain": [
       "       poverty_rate  families_median_income  white_perc  black_perc  \\\n",
       "count     78.000000               79.000000   80.000000   78.000000   \n",
       "mean       0.172891            78299.506329    0.390793    0.291237   \n",
       "std        0.107877            38057.874208    0.262933    0.277587   \n",
       "min        0.026674            25429.000000    0.024178    0.000221   \n",
       "25%        0.087053            51657.500000    0.155389    0.049660   \n",
       "50%        0.137795            75471.000000    0.370060    0.220520   \n",
       "75%        0.234096            94008.000000    0.578861    0.460528   \n",
       "max        0.479023           250000.000000    1.000000    0.928471   \n",
       "\n",
       "       native_american_perc  asian_perc  hispanic_perc  highway_count  \\\n",
       "count             70.000000   79.000000      79.000000     136.000000   \n",
       "mean               0.005212    0.139458       0.277865       1.198529   \n",
       "std                0.004115    0.140387       0.201799       1.567351   \n",
       "min                0.000382    0.001806       0.057071       0.000000   \n",
       "25%                0.002103    0.029641       0.124033       0.000000   \n",
       "50%                0.003943    0.072519       0.199376       0.500000   \n",
       "75%                0.007785    0.235622       0.385670       2.000000   \n",
       "max                0.020044    0.475832       0.764944       8.000000   \n",
       "\n",
       "       highway_bin  \n",
       "count   136.000000  \n",
       "mean      0.500000  \n",
       "std       0.501848  \n",
       "min       0.000000  \n",
       "25%       0.000000  \n",
       "50%       0.500000  \n",
       "75%       1.000000  \n",
       "max       1.000000  "
      ]
     },
     "execution_count": 45,
     "metadata": {},
     "output_type": "execute_result"
    }
   ],
   "source": [
    "no_stations[[col for col in no_stations.columns if col not in(['station_count', 'station_present'])]].describe()"
   ]
  },
  {
   "cell_type": "code",
   "execution_count": 22,
   "metadata": {},
   "outputs": [
    {
     "data": {
      "text/plain": [
       "<matplotlib.axes._subplots.AxesSubplot at 0x7fc1fb596eb0>"
      ]
     },
     "execution_count": 22,
     "metadata": {},
     "output_type": "execute_result"
    },
    {
     "data": {
      "image/png": "[encoded data removed]",
      "text/plain": [
       "<Figure size 720x432 with 1 Axes>"
      ]
     },
     "metadata": {
      "needs_background": "light"
     },
     "output_type": "display_data"
    }
   ],
   "source": [
    "EV_comb.boxplot('families_median_income', by = 'station_present', figsize = (10, 6))"
   ]
  },
  {
   "cell_type": "code",
   "execution_count": 23,
   "metadata": {},
   "outputs": [
    {
     "data": {
      "text/plain": [
       "<matplotlib.axes._subplots.AxesSubplot at 0x7ff89e1bdc70>"
      ]
     },
     "execution_count": 23,
     "metadata": {},
     "output_type": "execute_result"
    },
    {
     "data": {
      "image/png": "[encoded data removed]",
      "text/plain": [
       "<Figure size 720x432 with 1 Axes>"
      ]
     },
     "metadata": {
      "needs_background": "light"
     },
     "output_type": "display_data"
    }
   ],
   "source": [
    "EV_comb.boxplot('poverty_rate', by = 'station_present', figsize = (10, 6))"
   ]
  },
  {
   "cell_type": "code",
   "execution_count": 24,
   "metadata": {},
   "outputs": [
    {
     "data": {
      "text/plain": [
       "array([[<matplotlib.axes._subplots.AxesSubplot object at 0x7ff89e269f40>,\n",
       "        <matplotlib.axes._subplots.AxesSubplot object at 0x7ff89e2a5760>],\n",
       "       [<matplotlib.axes._subplots.AxesSubplot object at 0x7ff89e361730>,\n",
       "        <matplotlib.axes._subplots.AxesSubplot object at 0x7ff89e3925e0>]],\n",
       "      dtype=object)"
      ]
     },
     "execution_count": 24,
     "metadata": {},
     "output_type": "execute_result"
    },
    {
     "data": {
      "image/png": "[encoded data removed]",
      "text/plain": [
       "<Figure size 1080x720 with 4 Axes>"
      ]
     },
     "metadata": {
      "needs_background": "light"
     },
     "output_type": "display_data"
    }
   ],
   "source": [
    "EV_comb[['station_present', 'white_perc', 'black_perc', 'asian_perc', 'hispanic_perc']].boxplot( by = 'station_present', figsize = (15, 10))"
   ]
  },
  {
   "cell_type": "markdown",
   "metadata": {},
   "source": [
    "### Statistical Analysis between zipcodes with and without EV Charging Stations"
   ]
  },
  {
   "cell_type": "code",
   "execution_count": 31,
   "metadata": {},
   "outputs": [
    {
     "data": {
      "text/html": [
       "<div>\n",
       "<style scoped>\n",
       "    .dataframe tbody tr th:only-of-type {\n",
       "        vertical-align: middle;\n",
       "    }\n",
       "\n",
       "    .dataframe tbody tr th {\n",
       "        vertical-align: top;\n",
       "    }\n",
       "\n",
       "    .dataframe thead th {\n",
       "        text-align: right;\n",
       "    }\n",
       "</style>\n",
       "<table border=\"1\" class=\"dataframe\">\n",
       "  <thead>\n",
       "    <tr style=\"text-align: right;\">\n",
       "      <th></th>\n",
       "      <th>station_count</th>\n",
       "      <th>poverty_rate</th>\n",
       "      <th>families_median_income</th>\n",
       "      <th>white_perc</th>\n",
       "      <th>black_perc</th>\n",
       "      <th>native_american_perc</th>\n",
       "      <th>asian_perc</th>\n",
       "      <th>hispanic_perc</th>\n",
       "      <th>highway_count</th>\n",
       "      <th>highway_bin</th>\n",
       "      <th>station_present</th>\n",
       "    </tr>\n",
       "  </thead>\n",
       "  <tbody>\n",
       "    <tr>\n",
       "      <th>5</th>\n",
       "      <td>0.0</td>\n",
       "      <td>0.033635</td>\n",
       "      <td>245764.0</td>\n",
       "      <td>0.734799</td>\n",
       "      <td>0.032018</td>\n",
       "      <td>0.000000</td>\n",
       "      <td>0.160414</td>\n",
       "      <td>0.108344</td>\n",
       "      <td>3.0</td>\n",
       "      <td>1.0</td>\n",
       "      <td>0</td>\n",
       "    </tr>\n",
       "    <tr>\n",
       "      <th>7</th>\n",
       "      <td>0.0</td>\n",
       "      <td>0.235425</td>\n",
       "      <td>71135.0</td>\n",
       "      <td>0.616163</td>\n",
       "      <td>0.086237</td>\n",
       "      <td>0.001201</td>\n",
       "      <td>0.142161</td>\n",
       "      <td>0.237884</td>\n",
       "      <td>1.0</td>\n",
       "      <td>1.0</td>\n",
       "      <td>0</td>\n",
       "    </tr>\n",
       "    <tr>\n",
       "      <th>17</th>\n",
       "      <td>0.0</td>\n",
       "      <td>0.000000</td>\n",
       "      <td>0.0</td>\n",
       "      <td>0.000000</td>\n",
       "      <td>0.000000</td>\n",
       "      <td>0.000000</td>\n",
       "      <td>0.000000</td>\n",
       "      <td>0.000000</td>\n",
       "      <td>0.0</td>\n",
       "      <td>0.0</td>\n",
       "      <td>0</td>\n",
       "    </tr>\n",
       "    <tr>\n",
       "      <th>28</th>\n",
       "      <td>0.0</td>\n",
       "      <td>0.219729</td>\n",
       "      <td>54699.0</td>\n",
       "      <td>0.314268</td>\n",
       "      <td>0.280250</td>\n",
       "      <td>0.004565</td>\n",
       "      <td>0.041755</td>\n",
       "      <td>0.512033</td>\n",
       "      <td>1.0</td>\n",
       "      <td>1.0</td>\n",
       "      <td>0</td>\n",
       "    </tr>\n",
       "    <tr>\n",
       "      <th>34</th>\n",
       "      <td>0.0</td>\n",
       "      <td>0.251636</td>\n",
       "      <td>51536.0</td>\n",
       "      <td>0.101798</td>\n",
       "      <td>0.712198</td>\n",
       "      <td>0.003323</td>\n",
       "      <td>0.027905</td>\n",
       "      <td>0.209755</td>\n",
       "      <td>1.0</td>\n",
       "      <td>1.0</td>\n",
       "      <td>0</td>\n",
       "    </tr>\n",
       "    <tr>\n",
       "      <th>...</th>\n",
       "      <td>...</td>\n",
       "      <td>...</td>\n",
       "      <td>...</td>\n",
       "      <td>...</td>\n",
       "      <td>...</td>\n",
       "      <td>...</td>\n",
       "      <td>...</td>\n",
       "      <td>...</td>\n",
       "      <td>...</td>\n",
       "      <td>...</td>\n",
       "      <td>...</td>\n",
       "    </tr>\n",
       "    <tr>\n",
       "      <th>235</th>\n",
       "      <td>0.0</td>\n",
       "      <td>0.000000</td>\n",
       "      <td>0.0</td>\n",
       "      <td>0.000000</td>\n",
       "      <td>0.000000</td>\n",
       "      <td>0.000000</td>\n",
       "      <td>0.000000</td>\n",
       "      <td>0.000000</td>\n",
       "      <td>0.0</td>\n",
       "      <td>0.0</td>\n",
       "      <td>0</td>\n",
       "    </tr>\n",
       "    <tr>\n",
       "      <th>236</th>\n",
       "      <td>0.0</td>\n",
       "      <td>0.000000</td>\n",
       "      <td>0.0</td>\n",
       "      <td>0.000000</td>\n",
       "      <td>0.000000</td>\n",
       "      <td>0.000000</td>\n",
       "      <td>0.000000</td>\n",
       "      <td>0.000000</td>\n",
       "      <td>0.0</td>\n",
       "      <td>0.0</td>\n",
       "      <td>0</td>\n",
       "    </tr>\n",
       "    <tr>\n",
       "      <th>237</th>\n",
       "      <td>0.0</td>\n",
       "      <td>0.000000</td>\n",
       "      <td>0.0</td>\n",
       "      <td>0.000000</td>\n",
       "      <td>0.000000</td>\n",
       "      <td>0.000000</td>\n",
       "      <td>0.000000</td>\n",
       "      <td>0.000000</td>\n",
       "      <td>0.0</td>\n",
       "      <td>0.0</td>\n",
       "      <td>0</td>\n",
       "    </tr>\n",
       "    <tr>\n",
       "      <th>238</th>\n",
       "      <td>0.0</td>\n",
       "      <td>0.000000</td>\n",
       "      <td>0.0</td>\n",
       "      <td>0.000000</td>\n",
       "      <td>0.000000</td>\n",
       "      <td>0.000000</td>\n",
       "      <td>0.000000</td>\n",
       "      <td>0.000000</td>\n",
       "      <td>2.0</td>\n",
       "      <td>1.0</td>\n",
       "      <td>0</td>\n",
       "    </tr>\n",
       "    <tr>\n",
       "      <th>239</th>\n",
       "      <td>0.0</td>\n",
       "      <td>0.000000</td>\n",
       "      <td>0.0</td>\n",
       "      <td>0.000000</td>\n",
       "      <td>0.000000</td>\n",
       "      <td>0.000000</td>\n",
       "      <td>0.000000</td>\n",
       "      <td>0.000000</td>\n",
       "      <td>0.0</td>\n",
       "      <td>0.0</td>\n",
       "      <td>0</td>\n",
       "    </tr>\n",
       "  </tbody>\n",
       "</table>\n",
       "<p>136 rows × 11 columns</p>\n",
       "</div>"
      ],
      "text/plain": [
       "     station_count  poverty_rate  families_median_income  white_perc  \\\n",
       "5              0.0      0.033635                245764.0    0.734799   \n",
       "7              0.0      0.235425                 71135.0    0.616163   \n",
       "17             0.0      0.000000                     0.0    0.000000   \n",
       "28             0.0      0.219729                 54699.0    0.314268   \n",
       "34             0.0      0.251636                 51536.0    0.101798   \n",
       "..             ...           ...                     ...         ...   \n",
       "235            0.0      0.000000                     0.0    0.000000   \n",
       "236            0.0      0.000000                     0.0    0.000000   \n",
       "237            0.0      0.000000                     0.0    0.000000   \n",
       "238            0.0      0.000000                     0.0    0.000000   \n",
       "239            0.0      0.000000                     0.0    0.000000   \n",
       "\n",
       "     black_perc  native_american_perc  asian_perc  hispanic_perc  \\\n",
       "5      0.032018              0.000000    0.160414       0.108344   \n",
       "7      0.086237              0.001201    0.142161       0.237884   \n",
       "17     0.000000              0.000000    0.000000       0.000000   \n",
       "28     0.280250              0.004565    0.041755       0.512033   \n",
       "34     0.712198              0.003323    0.027905       0.209755   \n",
       "..          ...                   ...         ...            ...   \n",
       "235    0.000000              0.000000    0.000000       0.000000   \n",
       "236    0.000000              0.000000    0.000000       0.000000   \n",
       "237    0.000000              0.000000    0.000000       0.000000   \n",
       "238    0.000000              0.000000    0.000000       0.000000   \n",
       "239    0.000000              0.000000    0.000000       0.000000   \n",
       "\n",
       "     highway_count  highway_bin  station_present  \n",
       "5              3.0          1.0                0  \n",
       "7              1.0          1.0                0  \n",
       "17             0.0          0.0                0  \n",
       "28             1.0          1.0                0  \n",
       "34             1.0          1.0                0  \n",
       "..             ...          ...              ...  \n",
       "235            0.0          0.0                0  \n",
       "236            0.0          0.0                0  \n",
       "237            0.0          0.0                0  \n",
       "238            2.0          1.0                0  \n",
       "239            0.0          0.0                0  \n",
       "\n",
       "[136 rows x 11 columns]"
      ]
     },
     "execution_count": 31,
     "metadata": {},
     "output_type": "execute_result"
    }
   ],
   "source": [
    "no_stations"
   ]
  },
  {
   "cell_type": "code",
   "execution_count": 35,
   "metadata": {},
   "outputs": [
    {
     "data": {
      "text/plain": [
       "array([1., 0.])"
      ]
     },
     "execution_count": 35,
     "metadata": {},
     "output_type": "execute_result"
    }
   ],
   "source": [
    "stations['highway_bin'].unique()"
   ]
  },
  {
   "cell_type": "code",
   "execution_count": 36,
   "metadata": {},
   "outputs": [
    {
     "name": "stdout",
     "output_type": "stream",
     "text": [
      "Statistical significance for: poverty_rate\n",
      "T-statistic: -1.2067718028957324\n",
      "P-value: 0.2291581117631306\n",
      "--------------------------------\n",
      "Statistical significance for: families_median_income\n",
      "T-statistic: 4.01965756901483\n",
      "P-value: 8.667254767157703e-05\n",
      "--------------------------------\n",
      "Statistical significance for: white_perc\n",
      "T-statistic: 3.364689925114979\n",
      "P-value: 0.0009406151652702986\n",
      "--------------------------------\n",
      "Statistical significance for: black_perc\n",
      "T-statistic: -3.3651369623647005\n",
      "P-value: 0.0009413133284921931\n",
      "--------------------------------\n",
      "Statistical significance for: native_american_perc\n",
      "T-statistic: -2.025225205073821\n",
      "P-value: 0.04458289679874779\n",
      "--------------------------------\n",
      "Statistical significance for: asian_perc\n",
      "T-statistic: 0.8688145788179996\n",
      "P-value: 0.3861385269243488\n",
      "--------------------------------\n",
      "Statistical significance for: hispanic_perc\n",
      "T-statistic: -0.9320805417555871\n",
      "P-value: 0.3525790342711467\n",
      "--------------------------------\n",
      "Statistical significance for: highway_count\n",
      "T-statistic: -0.8313979168247377\n",
      "P-value: 0.407070387595988\n",
      "--------------------------------\n",
      "Statistical significance for: highway_bin\n",
      "T-statistic: 5.14557009626163\n",
      "P-value: 5.578224852930082e-07\n",
      "--------------------------------\n"
     ]
    }
   ],
   "source": [
    "stations = stations.fillna(0)\n",
    "no_stations = no_stations.fillna(0)\n",
    "ttest_cols = [i for i in EV_comb.columns if i not in (['station_count', 'station_present'])]\n",
    "t_stats = {}\n",
    "p_vals = {}\n",
    "for col in ttest_cols:\n",
    "    if col != 'highway_bin':\n",
    "        t_stats[col], p_vals[col] = stats.ttest_ind(stations[stations[col]!=0][col], \\\n",
    "                                                no_stations[no_stations[col]!=0][col])\n",
    "    else:\n",
    "        t_stats[col], p_vals[col] = stats.ttest_ind(stations[col], no_stations[col])\n",
    "    \n",
    "    print(f\"Statistical significance for: {col}\")\n",
    "    print(\"T-statistic: {}\".format(t_stats[col]))\n",
    "    print(\"P-value: {}\".format(p_vals[col]))\n",
    "    print(\"--------------------------------\")"
   ]
  },
  {
   "cell_type": "markdown",
   "metadata": {},
   "source": [
    "## Deeper Dive Analysis on Zip Codes with Stations Present"
   ]
  },
  {
   "cell_type": "markdown",
   "metadata": {},
   "source": [
    "### Correlation Coefficients on Just Station Present Data"
   ]
  },
  {
   "cell_type": "code",
   "execution_count": 28,
   "metadata": {},
   "outputs": [
    {
     "data": {
      "text/html": [
       "<div>\n",
       "<style scoped>\n",
       "    .dataframe tbody tr th:only-of-type {\n",
       "        vertical-align: middle;\n",
       "    }\n",
       "\n",
       "    .dataframe tbody tr th {\n",
       "        vertical-align: top;\n",
       "    }\n",
       "\n",
       "    .dataframe thead th {\n",
       "        text-align: right;\n",
       "    }\n",
       "</style>\n",
       "<table border=\"1\" class=\"dataframe\">\n",
       "  <thead>\n",
       "    <tr style=\"text-align: right;\">\n",
       "      <th></th>\n",
       "      <th>station_count</th>\n",
       "    </tr>\n",
       "  </thead>\n",
       "  <tbody>\n",
       "    <tr>\n",
       "      <th>families_median_income</th>\n",
       "      <td>0.572557</td>\n",
       "    </tr>\n",
       "    <tr>\n",
       "      <th>white_perc</th>\n",
       "      <td>0.408279</td>\n",
       "    </tr>\n",
       "    <tr>\n",
       "      <th>asian_perc</th>\n",
       "      <td>0.027347</td>\n",
       "    </tr>\n",
       "    <tr>\n",
       "      <th>native_american_perc</th>\n",
       "      <td>-0.096214</td>\n",
       "    </tr>\n",
       "    <tr>\n",
       "      <th>poverty_rate</th>\n",
       "      <td>-0.202755</td>\n",
       "    </tr>\n",
       "    <tr>\n",
       "      <th>black_perc</th>\n",
       "      <td>-0.267552</td>\n",
       "    </tr>\n",
       "    <tr>\n",
       "      <th>hispanic_perc</th>\n",
       "      <td>-0.314737</td>\n",
       "    </tr>\n",
       "    <tr>\n",
       "      <th>non_white_perc</th>\n",
       "      <td>-0.408279</td>\n",
       "    </tr>\n",
       "  </tbody>\n",
       "</table>\n",
       "</div>"
      ],
      "text/plain": [
       "                        station_count\n",
       "families_median_income       0.572557\n",
       "white_perc                   0.408279\n",
       "asian_perc                   0.027347\n",
       "native_american_perc        -0.096214\n",
       "poverty_rate                -0.202755\n",
       "black_perc                  -0.267552\n",
       "hispanic_perc               -0.314737\n",
       "non_white_perc              -0.408279"
      ]
     },
     "execution_count": 28,
     "metadata": {},
     "output_type": "execute_result"
    }
   ],
   "source": [
    "statitons_corr = stations.corr()[['station_count']]\n",
    "statitons_corr = statitons_corr[(statitons_corr.index != 'station_count') & (statitons_corr.index != 'station_present')]\n",
    "statitons_corr.sort_values('station_count', ascending = False)"
   ]
  },
  {
   "cell_type": "markdown",
   "metadata": {},
   "source": [
    "### Conditional Analysis\n",
    "Below are scatterplots of racial percentage per zipcode for zipcodes with stations present versus the number of stations present. The plots are also color coded based on whether or not median household income is above the median for the full city of New York in a given zip code. "
   ]
  },
  {
   "cell_type": "code",
   "execution_count": 49,
   "metadata": {},
   "outputs": [],
   "source": [
    "med_inc_thres = 64000\n",
    "labels_dict = {'white_perc': 'Percentage of Zip Code Population Identifying as White',\n",
    "              'black_perc': 'Percentage of Zip Code Population Identifying as Black',\n",
    "              'asian_perc': 'Percentage of Zip Code Population Identifying as Asian',\n",
    "              'hispanic_perc': 'Percentage of Zip Code Population Identifying as Hispanic',\n",
    "              }"
   ]
  },
  {
   "cell_type": "code",
   "execution_count": 30,
   "metadata": {},
   "outputs": [
    {
     "data": {
      "image/png": "[encoded data removed]",
      "text/plain": [
       "<Figure size 1080x1080 with 4 Axes>"
      ]
     },
     "metadata": {
      "needs_background": "light"
     },
     "output_type": "display_data"
    }
   ],
   "source": [
    "axs = {}\n",
    "fig, ((axs[0], axs[1]), (axs[2], axs[3])) = plt.subplots(2,2, figsize = (15,15))\n",
    "fig.suptitle(\"# EV Stations v. Percentage of Populations in Zip Codes Identifying as Different Races Considering Median Income Threshold\")\n",
    "i = 0\n",
    "labels_dict\n",
    "for col in labels_dict.keys():\n",
    "    over_inc = stations[stations['families_median_income']> med_inc_thres]\n",
    "    under_inc = stations[stations['families_median_income']<= med_inc_thres]\n",
    "    axs[i].scatter(over_inc[col], over_inc['station_count'],\n",
    "            label = \"Median Income > ${} [{} obs]\".format(med_inc_thres, len(over_inc)))\n",
    "    axs[i].scatter(under_inc[col], under_inc['station_count'],\n",
    "            label = \"Median Income <= ${} [{} obs]\".format(med_inc_thres, len(under_inc)))\n",
    "    axs[i].set(ylabel = '# EV Stations', xlabel = labels_dict[col], \\\n",
    "           title = \"# EV Stations v. {}\".format(labels_dict[col]))\n",
    "    axs[i].legend(loc='upper right')\n",
    "    \n",
    "    i+=1"
   ]
  },
  {
   "cell_type": "markdown",
   "metadata": {},
   "source": [
    "### Combined Minority Groups"
   ]
  },
  {
   "cell_type": "code",
   "execution_count": 47,
   "metadata": {},
   "outputs": [
    {
     "ename": "SyntaxError",
     "evalue": "invalid syntax (<ipython-input-47-581f90fe344d>, line 4)",
     "output_type": "error",
     "traceback": [
      "\u001b[0;36m  File \u001b[0;32m\"<ipython-input-47-581f90fe344d>\"\u001b[0;36m, line \u001b[0;32m4\u001b[0m\n\u001b[0;31m    plt.figure(figsize = (,6))\u001b[0m\n\u001b[0m                          ^\u001b[0m\n\u001b[0;31mSyntaxError\u001b[0m\u001b[0;31m:\u001b[0m invalid syntax\n"
     ]
    }
   ],
   "source": [
    "axs = {}\n",
    "stations['non_white_perc'] = 1- stations['white_perc']\n",
    "\n",
    "plt.figure(figsize = (,6))\n",
    "over_inc = stations[stations['families_median_income']> med_inc_thres]\n",
    "under_inc = stations[stations['families_median_income']<= med_inc_thres]\n",
    "plt.scatter(over_inc['non_white_perc'], over_inc['station_count'],\n",
    "            label = \"Median Income > ${} [{} obs]\".format(med_inc_thres, len(over_inc)))\n",
    "plt.scatter(under_inc['non_white_perc'], under_inc['station_count'],\n",
    "            label = \"Median Income <= ${} [{} obs]\".format(med_inc_thres, len(under_inc)))\n",
    "plt.ylabel('# EV Stations')\n",
    "plt.xlabel('Non-white Percentage of Zip Code Population'), \\\n",
    "plt.title(\"# EV Stations v. Non-white Percentage of Zip Code Population\")\n",
    "plt.legend(loc='upper right')\n",
    " \n"
   ]
  },
  {
   "cell_type": "code",
   "execution_count": 32,
   "metadata": {},
   "outputs": [
    {
     "data": {
      "text/plain": [
       "<matplotlib.legend.Legend at 0x7fc1fb4a5fd0>"
      ]
     },
     "execution_count": 32,
     "metadata": {},
     "output_type": "execute_result"
    },
    {
     "data": {
      "image/png": "[encoded data removed]",
      "text/plain": [
       "<Figure size 576x432 with 1 Axes>"
      ]
     },
     "metadata": {
      "needs_background": "light"
     },
     "output_type": "display_data"
    }
   ],
   "source": [
    "axs = {}\n",
    "stations['non_white_perc'] = 1- stations['white_perc']\n",
    "\n",
    "plt.figure(figsize = (8,6))\n",
    "over_inc = stations[stations['families_median_income']> med_inc_thres]\n",
    "under_inc = stations[stations['families_median_income']<= med_inc_thres]\n",
    "plt.scatter(over_inc['non_white_perc'], over_inc['station_count'],\n",
    "            label = \"Median Income > ${} [{} obs]\".format(med_inc_thres, len(over_inc)))\n",
    "plt.scatter(under_inc['non_white_perc'], under_inc['station_count'],\n",
    "            label = \"Median Income <= ${} [{} obs]\".format(med_inc_thres, len(under_inc)))\n",
    "plt.ylabel('# EV Stations')\n",
    "plt.xlabel('Non-white Percentage of Zip Code Population'), \\\n",
    "plt.title(\"# EV Stations v. Non-white Percentage of Zip Code Population\")\n",
    "plt.legend(loc='upper right')\n",
    " \n"
   ]
  },
  {
   "cell_type": "markdown",
   "metadata": {},
   "source": [
    "### Conditional Analysis with highway present"
   ]
  },
  {
   "cell_type": "code",
   "execution_count": 50,
   "metadata": {},
   "outputs": [
    {
     "data": {
      "image/png": "[encoded data removed]",
      "text/plain": [
       "<Figure size 1080x1080 with 4 Axes>"
      ]
     },
     "metadata": {
      "needs_background": "light"
     },
     "output_type": "display_data"
    }
   ],
   "source": [
    "axs = {}\n",
    "fig, ((axs[0], axs[1]), (axs[2], axs[3])) = plt.subplots(2,2, figsize = (15,15))\n",
    "fig.suptitle(\"# EV Stations v. Percentage of Populations in Zip Codes Identifying as Different Races Considering Median Income Threshold\")\n",
    "i = 0\n",
    "labels_dict\n",
    "for col in labels_dict.keys():\n",
    "    highway = stations[stations['highway_bin']==1]\n",
    "    no_highway = stations[stations['highway_bin']==0]\n",
    "    axs[i].scatter(highway[col], highway['station_count'],\n",
    "            label = \"Highway Present [{} obs]\".format(len(highway)))\n",
    "    axs[i].scatter(no_highway[col], no_highway['station_count'],\n",
    "            label = \"No Highway Present [{} obs]\".format(len(no_highway)))\n",
    "    axs[i].set(ylabel = '# EV Stations', xlabel = labels_dict[col], \\\n",
    "           title = \"# EV Stations v. {}\".format(labels_dict[col]))\n",
    "    axs[i].legend(loc='upper right')\n",
    "    \n",
    "    i+=1"
   ]
  },
  {
   "cell_type": "markdown",
   "metadata": {},
   "source": [
    "### Logistic Regression"
   ]
  },
  {
   "cell_type": "code",
   "execution_count": 53,
   "metadata": {},
   "outputs": [
    {
     "name": "stdout",
     "output_type": "stream",
     "text": [
      "(130, 9)\n"
     ]
    },
    {
     "data": {
      "text/plain": [
       "(130, 1)"
      ]
     },
     "execution_count": 53,
     "metadata": {},
     "output_type": "execute_result"
    }
   ],
   "source": [
    "X = EV_comb.drop(['station_count', 'station_present'], axis = 1)\n",
    "X = X.iloc[np.ravel(np.where(np.sum(np.array(X), axis = 1)>0)),:]\n",
    "print(X.shape)\n",
    "scaler = StandardScaler()\n",
    "scaler.fit(X)\n",
    "X_scaled = scaler.transform(X)\n",
    "Y = np.array(EV_comb[['station_present']].iloc[np.ravel(np.where(np.sum(np.array(X), axis = 1)>0)),:])\n",
    "Y.shape"
   ]
  },
  {
   "cell_type": "code",
   "execution_count": 73,
   "metadata": {},
   "outputs": [],
   "source": [
    "X_train, X_test, y_train, y_test = train_test_split(X_scaled, Y, test_size=0.25)"
   ]
  },
  {
   "cell_type": "code",
   "execution_count": 74,
   "metadata": {},
   "outputs": [
    {
     "data": {
      "text/plain": [
       "0.696969696969697"
      ]
     },
     "execution_count": 74,
     "metadata": {},
     "output_type": "execute_result"
    }
   ],
   "source": [
    "LR = LogisticRegression().fit(X_train, y_train) \n",
    "\n",
    "lr_score = LR.predict_proba(X_test)\n",
    "lr_preds = LR.predict(X_test)\n",
    "LR.score(X_test, y_test)"
   ]
  },
  {
   "cell_type": "code",
   "execution_count": 75,
   "metadata": {},
   "outputs": [
    {
     "data": {
      "image/png": "[encoded data removed]",
      "text/plain": [
       "<Figure size 864x432 with 1 Axes>"
      ]
     },
     "metadata": {
      "needs_background": "light"
     },
     "output_type": "display_data"
    }
   ],
   "source": [
    "from sklearn.metrics import roc_curve, auc\n",
    "\n",
    "plt.figure(figsize = (12,6))\n",
    "fpr, tpr, thresholds = roc_curve(np.ravel(y_test), lr_score[:,1])\n",
    "roc_auc = auc(fpr, tpr)\n",
    "\n",
    "#chooses a random color for plotting\n",
    "c = (np.random.rand(), np.random.rand(), np.random.rand())\n",
    "\n",
    "#plot current model ROC curve\n",
    "plt.plot(fpr, tpr, color = c, label ='(AUC = %0.3f)' % roc_auc) \n",
    "plt.plot([0, 1], [0, 1], 'k--')\n",
    "plt.xlim([0.0, 1.0])\n",
    "plt.ylim([0.0, 1.0])\n",
    "plt.xlabel('FPR')\n",
    "plt.ylabel('TPR')\n",
    "plt.title('ROC')\n",
    "plt.legend(loc=\"lower right\")\n",
    "plt.show()"
   ]
  }
 ],
 "metadata": {
  "kernelspec": {
   "display_name": "Python 3",
   "language": "python",
   "name": "python3"
  },
  "language_info": {
   "codemirror_mode": {
    "name": "ipython",
    "version": 3
   },
   "file_extension": ".py",
   "mimetype": "text/x-python",
   "name": "python",
   "nbconvert_exporter": "python",
   "pygments_lexer": "ipython3",
   "version": "3.8.3"
  }
 },
 "nbformat": 4,
 "nbformat_minor": 4
}
